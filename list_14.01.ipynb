{
 "cells": [
  {
   "cell_type": "code",
   "execution_count": null,
   "id": "68fb5b2a-970d-4d93-a20d-9b9a2f965f13",
   "metadata": {},
   "outputs": [],
   "source": [
    "Other Operation:\n",
    "\n",
    "count\n",
    "index\n",
    "sort\n",
    "reverse"
   ]
  },
  {
   "cell_type": "code",
   "execution_count": 4,
   "id": "36576dd8-6f03-44b2-8699-9a2edb021d68",
   "metadata": {},
   "outputs": [],
   "source": [
    "p = [43,6243,54,23,456,44,34,43]"
   ]
  },
  {
   "cell_type": "code",
   "execution_count": 5,
   "id": "c6039a5d-a33f-489c-813b-c2dd23a8d676",
   "metadata": {},
   "outputs": [
    {
     "data": {
      "text/plain": [
       "[43, 6243, 54, 23, 456, 44, 34, 43]"
      ]
     },
     "execution_count": 5,
     "metadata": {},
     "output_type": "execute_result"
    }
   ],
   "source": [
    "p"
   ]
  },
  {
   "cell_type": "code",
   "execution_count": 6,
   "id": "22d059f8-db16-448a-b926-cf74cb37dc60",
   "metadata": {},
   "outputs": [
    {
     "data": {
      "text/plain": [
       "0"
      ]
     },
     "execution_count": 6,
     "metadata": {},
     "output_type": "execute_result"
    }
   ],
   "source": [
    "p.index(43)"
   ]
  },
  {
   "cell_type": "code",
   "execution_count": null,
   "id": "745550d9-d4dc-4971-805d-eb9657527826",
   "metadata": {},
   "outputs": [],
   "source": [
    "sort() :\n",
    "\n",
    "asc\n",
    "desc "
   ]
  },
  {
   "cell_type": "code",
   "execution_count": 9,
   "id": "cc6dc197-360e-4bf0-a681-486c080a1d9c",
   "metadata": {},
   "outputs": [],
   "source": [
    "p.sort(reverse=True)"
   ]
  },
  {
   "cell_type": "code",
   "execution_count": 10,
   "id": "2e16ffcc-8458-48e0-b0d0-e0c884e2b557",
   "metadata": {},
   "outputs": [
    {
     "data": {
      "text/plain": [
       "[6243, 456, 54, 44, 43, 43, 34, 23]"
      ]
     },
     "execution_count": 10,
     "metadata": {},
     "output_type": "execute_result"
    }
   ],
   "source": [
    "p"
   ]
  },
  {
   "cell_type": "code",
   "execution_count": null,
   "id": "b1504fc8-b903-4b27-949c-5907c1e033ba",
   "metadata": {},
   "outputs": [],
   "source": [
    "sort() --> reverse -- desc"
   ]
  },
  {
   "cell_type": "code",
   "execution_count": 14,
   "id": "c71e5d76-650a-45ca-8c55-ea05c9f61909",
   "metadata": {},
   "outputs": [],
   "source": [
    "sal =[534343,76657665,454456456,87766576345,6544564345,6456456545,543543543]"
   ]
  },
  {
   "cell_type": "code",
   "execution_count": 15,
   "id": "2f958316-3128-48c1-b2fc-3bb1f3c2ebf4",
   "metadata": {},
   "outputs": [],
   "source": [
    "sal.sort(reverse=True)"
   ]
  },
  {
   "cell_type": "code",
   "execution_count": 17,
   "id": "14834ae4-32b5-4797-8ac5-32da0d10a37a",
   "metadata": {},
   "outputs": [
    {
     "data": {
      "text/plain": [
       "6544564345"
      ]
     },
     "execution_count": 17,
     "metadata": {},
     "output_type": "execute_result"
    }
   ],
   "source": [
    "sal[1]"
   ]
  },
  {
   "cell_type": "code",
   "execution_count": null,
   "id": "0ef6889c-6d51-4e5f-9457-5e8d7a751bec",
   "metadata": {},
   "outputs": [],
   "source": [
    "list should be homogeneous"
   ]
  },
  {
   "cell_type": "code",
   "execution_count": 18,
   "id": "e427b6d8-9c02-4e8f-8666-a192ebecc299",
   "metadata": {},
   "outputs": [],
   "source": [
    "p = [3,645,23,54,'python',665465,23,54,645]"
   ]
  },
  {
   "cell_type": "code",
   "execution_count": 19,
   "id": "40a7d835-642c-4af9-820c-af5f74a1e2db",
   "metadata": {},
   "outputs": [
    {
     "ename": "TypeError",
     "evalue": "'<' not supported between instances of 'str' and 'int'",
     "output_type": "error",
     "traceback": [
      "\u001b[1;31m---------------------------------------------------------------------------\u001b[0m",
      "\u001b[1;31mTypeError\u001b[0m                                 Traceback (most recent call last)",
      "Cell \u001b[1;32mIn[19], line 1\u001b[0m\n\u001b[1;32m----> 1\u001b[0m p\u001b[38;5;241m.\u001b[39msort()\n",
      "\u001b[1;31mTypeError\u001b[0m: '<' not supported between instances of 'str' and 'int'"
     ]
    }
   ],
   "source": [
    "p.sort()"
   ]
  },
  {
   "cell_type": "code",
   "execution_count": 20,
   "id": "14992033-cb56-4b17-bb44-062b0dd8f4ad",
   "metadata": {},
   "outputs": [],
   "source": [
    "p = ['sadsad','A','sadfsdf','grgrrerg','Zerer','fsdf']"
   ]
  },
  {
   "cell_type": "code",
   "execution_count": 21,
   "id": "314eaf51-3b1c-481b-8876-7fd4c9f22730",
   "metadata": {},
   "outputs": [],
   "source": [
    "p.sort()"
   ]
  },
  {
   "cell_type": "code",
   "execution_count": 22,
   "id": "1a86f236-d8ee-44b2-84dd-448e23fda21f",
   "metadata": {},
   "outputs": [
    {
     "data": {
      "text/plain": [
       "['A', 'Zerer', 'fsdf', 'grgrrerg', 'sadfsdf', 'sadsad']"
      ]
     },
     "execution_count": 22,
     "metadata": {},
     "output_type": "execute_result"
    }
   ],
   "source": [
    "p"
   ]
  },
  {
   "cell_type": "code",
   "execution_count": null,
   "id": "a429baff-82a3-4b32-a99e-c1baf84923a7",
   "metadata": {},
   "outputs": [],
   "source": [
    "ASCII : "
   ]
  },
  {
   "cell_type": "code",
   "execution_count": null,
   "id": "c2ec28a8-ed7a-486b-aa51-6eaa6a932cf4",
   "metadata": {},
   "outputs": [],
   "source": [
    "Electonics --> \n",
    "\n",
    "1kg india -- 2kg"
   ]
  },
  {
   "cell_type": "code",
   "execution_count": null,
   "id": "0c04428f-79c6-4703-ae32-0ad4b41ab251",
   "metadata": {},
   "outputs": [],
   "source": [
    "Table:\n",
    "Dell--- hp"
   ]
  },
  {
   "cell_type": "code",
   "execution_count": 23,
   "id": "daa4c29e-6db0-451c-9d02-ccb933d795f6",
   "metadata": {},
   "outputs": [],
   "source": [
    "p = ['a','Z','T','t']"
   ]
  },
  {
   "cell_type": "code",
   "execution_count": 24,
   "id": "ecbe965f-9fc8-4bd8-b495-507a28ef7cbd",
   "metadata": {},
   "outputs": [],
   "source": [
    "p.sort()"
   ]
  },
  {
   "cell_type": "code",
   "execution_count": 25,
   "id": "a3f9ae3d-9742-4644-98fd-206a35dc5e6c",
   "metadata": {},
   "outputs": [
    {
     "data": {
      "text/plain": [
       "['T', 'Z', 'a', 't']"
      ]
     },
     "execution_count": 25,
     "metadata": {},
     "output_type": "execute_result"
    }
   ],
   "source": [
    "p"
   ]
  },
  {
   "cell_type": "code",
   "execution_count": 26,
   "id": "a6e203e1-f6ff-40ec-843c-e135bc7879bf",
   "metadata": {},
   "outputs": [
    {
     "data": {
      "text/plain": [
       "97"
      ]
     },
     "execution_count": 26,
     "metadata": {},
     "output_type": "execute_result"
    }
   ],
   "source": [
    "ord('a')"
   ]
  },
  {
   "cell_type": "code",
   "execution_count": 27,
   "id": "ba7e38ab-77f7-4ef7-9aa8-e60745b8a7e7",
   "metadata": {},
   "outputs": [
    {
     "data": {
      "text/plain": [
       "'c'"
      ]
     },
     "execution_count": 27,
     "metadata": {},
     "output_type": "execute_result"
    }
   ],
   "source": [
    "chr(99)"
   ]
  },
  {
   "cell_type": "code",
   "execution_count": null,
   "id": "0c0e8031-dc15-48d4-938f-3b1f43819b2a",
   "metadata": {},
   "outputs": [],
   "source": [
    "ord(char) :\n",
    "to findout ASCII value using char\n",
    "\n",
    "chr(ASCII):\n",
    "to find repective char"
   ]
  },
  {
   "cell_type": "code",
   "execution_count": 28,
   "id": "8a3afc96-ea79-4fb2-955e-84288340b127",
   "metadata": {},
   "outputs": [],
   "source": [
    "p = ['435435','python','java',4545443543]"
   ]
  },
  {
   "cell_type": "code",
   "execution_count": 29,
   "id": "bd9b32ef-a4b1-45f9-bf90-f677c9d571fd",
   "metadata": {},
   "outputs": [],
   "source": [
    "p.reverse()"
   ]
  },
  {
   "cell_type": "code",
   "execution_count": 30,
   "id": "29e5da93-9c78-4f37-921a-c9e0d8817eb6",
   "metadata": {},
   "outputs": [
    {
     "data": {
      "text/plain": [
       "[4545443543, 'java', 'python', '435435']"
      ]
     },
     "execution_count": 30,
     "metadata": {},
     "output_type": "execute_result"
    }
   ],
   "source": [
    "p"
   ]
  },
  {
   "cell_type": "code",
   "execution_count": null,
   "id": "d60d6107-0d12-4a00-ad4e-65cfcd78b856",
   "metadata": {},
   "outputs": [],
   "source": [
    "data = [file csv ,,,,, pdf ]"
   ]
  },
  {
   "cell_type": "code",
   "execution_count": null,
   "id": "32fea29f-9573-497d-90fb-5d9a2faf74b6",
   "metadata": {},
   "outputs": [],
   "source": [
    "Maths Operation: "
   ]
  },
  {
   "cell_type": "code",
   "execution_count": null,
   "id": "04f96982-d746-429b-9551-9924d6e42c7c",
   "metadata": {},
   "outputs": [],
   "source": [
    "+ -  int/float + int/float -- arithmetic Addition\n",
    "\n",
    "    list + list -- concat\n",
    "    tuple + tuple -- concat\n",
    "    str + str -- concat\n",
    "\n",
    "\n",
    "*  int * int/float -- Arithmetic multiplication\n",
    "\n",
    "   list * int -- > repeatation /duplication\n",
    "   tuple * int --> repeatation /duplication\n",
    "   str * int --> repeation / duplication"
   ]
  },
  {
   "cell_type": "code",
   "execution_count": 31,
   "id": "5c9a7052-ed9d-4300-8fb8-f7e06e6dc9a4",
   "metadata": {},
   "outputs": [
    {
     "data": {
      "text/plain": [
       "4276"
      ]
     },
     "execution_count": 31,
     "metadata": {},
     "output_type": "execute_result"
    }
   ],
   "source": [
    "4233 +43"
   ]
  },
  {
   "cell_type": "code",
   "execution_count": 32,
   "id": "b1c17be4-19ca-4dce-a5dc-748c3586185d",
   "metadata": {},
   "outputs": [
    {
     "data": {
      "text/plain": [
       "88.34"
      ]
     },
     "execution_count": 32,
     "metadata": {},
     "output_type": "execute_result"
    }
   ],
   "source": [
    "34 + 54.34"
   ]
  },
  {
   "cell_type": "code",
   "execution_count": 33,
   "id": "ec6431db-246b-4074-88a7-52a1a47a3531",
   "metadata": {},
   "outputs": [
    {
     "data": {
      "text/plain": [
       "'pythonjava'"
      ]
     },
     "execution_count": 33,
     "metadata": {},
     "output_type": "execute_result"
    }
   ],
   "source": [
    "'python' +  'java'"
   ]
  },
  {
   "cell_type": "code",
   "execution_count": 34,
   "id": "17a19e6a-e9db-4041-99e0-19630deede96",
   "metadata": {},
   "outputs": [],
   "source": [
    "p1 = [32,65,23]"
   ]
  },
  {
   "cell_type": "code",
   "execution_count": 35,
   "id": "5c0f33c7-ca59-42f9-9614-e0d86b9bdc19",
   "metadata": {},
   "outputs": [],
   "source": [
    "p2 = [34,6,4,23]"
   ]
  },
  {
   "cell_type": "code",
   "execution_count": 37,
   "id": "d3fd1943-bc5a-40ae-8db2-3bbe1ef96da8",
   "metadata": {},
   "outputs": [],
   "source": [
    "p3 = p1+p2"
   ]
  },
  {
   "cell_type": "code",
   "execution_count": 38,
   "id": "4b90fcba-9f86-4c5d-8c76-9bb1a8f014ea",
   "metadata": {},
   "outputs": [
    {
     "data": {
      "text/plain": [
       "[32, 65, 23, 34, 6, 4, 23]"
      ]
     },
     "execution_count": 38,
     "metadata": {},
     "output_type": "execute_result"
    }
   ],
   "source": [
    "p3"
   ]
  },
  {
   "cell_type": "code",
   "execution_count": 41,
   "id": "f13a71b5-89ca-468b-a1fd-3c68cd0c5663",
   "metadata": {},
   "outputs": [
    {
     "ename": "TypeError",
     "evalue": "can only concatenate list (not \"str\") to list",
     "output_type": "error",
     "traceback": [
      "\u001b[1;31m---------------------------------------------------------------------------\u001b[0m",
      "\u001b[1;31mTypeError\u001b[0m                                 Traceback (most recent call last)",
      "Cell \u001b[1;32mIn[41], line 1\u001b[0m\n\u001b[1;32m----> 1\u001b[0m p1 \u001b[38;5;241m+\u001b[39m \u001b[38;5;124m'\u001b[39m\u001b[38;5;124mpython\u001b[39m\u001b[38;5;124m'\u001b[39m\n",
      "\u001b[1;31mTypeError\u001b[0m: can only concatenate list (not \"str\") to list"
     ]
    }
   ],
   "source": [
    "p1 + 'python'"
   ]
  },
  {
   "cell_type": "code",
   "execution_count": 42,
   "id": "80449f15-3674-4d33-b281-3c8dcd0fe5c6",
   "metadata": {},
   "outputs": [],
   "source": [
    "prd = [101,'copper',545454]"
   ]
  },
  {
   "cell_type": "code",
   "execution_count": 43,
   "id": "f5e40672-a257-4408-955e-679e86cfdbc8",
   "metadata": {},
   "outputs": [],
   "source": [
    "det = ['red',5654645,76665,34345,4564]"
   ]
  },
  {
   "cell_type": "code",
   "execution_count": 44,
   "id": "ca8ab1c1-11a4-4de0-9cec-03127c685745",
   "metadata": {},
   "outputs": [
    {
     "data": {
      "text/plain": [
       "[101, 'copper', 545454, 'red', 5654645, 76665, 34345, 4564]"
      ]
     },
     "execution_count": 44,
     "metadata": {},
     "output_type": "execute_result"
    }
   ],
   "source": [
    "prd+det"
   ]
  },
  {
   "cell_type": "code",
   "execution_count": 45,
   "id": "19caf3e3-5e67-4568-9a68-7cfa365ee20c",
   "metadata": {},
   "outputs": [
    {
     "data": {
      "text/plain": [
       "17412"
      ]
     },
     "execution_count": 45,
     "metadata": {},
     "output_type": "execute_result"
    }
   ],
   "source": [
    "4353 *4"
   ]
  },
  {
   "cell_type": "code",
   "execution_count": 46,
   "id": "f6764b78-a7a8-4c55-b8c7-e80f3043cac8",
   "metadata": {},
   "outputs": [],
   "source": [
    "p1 = [1,2,3]"
   ]
  },
  {
   "cell_type": "code",
   "execution_count": 47,
   "id": "93e62093-680e-4c9c-95de-1fc98a26b4dd",
   "metadata": {},
   "outputs": [
    {
     "data": {
      "text/plain": [
       "[1, 2, 3, 1, 2, 3, 1, 2, 3]"
      ]
     },
     "execution_count": 47,
     "metadata": {},
     "output_type": "execute_result"
    }
   ],
   "source": [
    "p1*3"
   ]
  },
  {
   "cell_type": "code",
   "execution_count": 48,
   "id": "22192fce-1b1d-43c5-893f-18c010258a50",
   "metadata": {},
   "outputs": [
    {
     "data": {
      "text/plain": [
       "'pythonpythonpythonpython'"
      ]
     },
     "execution_count": 48,
     "metadata": {},
     "output_type": "execute_result"
    }
   ],
   "source": [
    "'python' * 4"
   ]
  },
  {
   "cell_type": "code",
   "execution_count": 49,
   "id": "74422cca-8115-414d-86f7-5137c5d6f3c7",
   "metadata": {},
   "outputs": [
    {
     "data": {
      "text/plain": [
       "[1, 2, 3]"
      ]
     },
     "execution_count": 49,
     "metadata": {},
     "output_type": "execute_result"
    }
   ],
   "source": [
    "p1"
   ]
  },
  {
   "cell_type": "code",
   "execution_count": 50,
   "id": "e004897e-1b90-40ba-b70b-ee7bb4bce34c",
   "metadata": {},
   "outputs": [
    {
     "data": {
      "text/plain": [
       "[34, 6, 4, 23]"
      ]
     },
     "execution_count": 50,
     "metadata": {},
     "output_type": "execute_result"
    }
   ],
   "source": [
    "p2"
   ]
  },
  {
   "cell_type": "code",
   "execution_count": 51,
   "id": "e64aaf36-16b7-48ad-a516-62343d898236",
   "metadata": {},
   "outputs": [
    {
     "ename": "TypeError",
     "evalue": "can't multiply sequence by non-int of type 'list'",
     "output_type": "error",
     "traceback": [
      "\u001b[1;31m---------------------------------------------------------------------------\u001b[0m",
      "\u001b[1;31mTypeError\u001b[0m                                 Traceback (most recent call last)",
      "Cell \u001b[1;32mIn[51], line 1\u001b[0m\n\u001b[1;32m----> 1\u001b[0m p1 \u001b[38;5;241m*\u001b[39m p2\n",
      "\u001b[1;31mTypeError\u001b[0m: can't multiply sequence by non-int of type 'list'"
     ]
    }
   ],
   "source": [
    "p1 * p2"
   ]
  },
  {
   "cell_type": "code",
   "execution_count": 52,
   "id": "afcb05e9-600b-4a17-bafb-fe377c7fbac0",
   "metadata": {},
   "outputs": [],
   "source": [
    "p  =(1,2,3)"
   ]
  },
  {
   "cell_type": "code",
   "execution_count": 54,
   "id": "e70b7d63-fb15-4b80-9057-8757897f7b12",
   "metadata": {},
   "outputs": [],
   "source": [
    "p3 = p*2"
   ]
  },
  {
   "cell_type": "code",
   "execution_count": 55,
   "id": "4c926a96-273f-4851-8161-c8a16a968deb",
   "metadata": {},
   "outputs": [
    {
     "data": {
      "text/plain": [
       "(1, 2, 3)"
      ]
     },
     "execution_count": 55,
     "metadata": {},
     "output_type": "execute_result"
    }
   ],
   "source": [
    "p"
   ]
  },
  {
   "cell_type": "code",
   "execution_count": 56,
   "id": "ecc84f27-d196-4879-92b4-cdb9a31f5074",
   "metadata": {},
   "outputs": [],
   "source": [
    "p = 'python'"
   ]
  },
  {
   "cell_type": "code",
   "execution_count": 58,
   "id": "78019f67-4b44-4824-bfa3-ca55bf32b7a5",
   "metadata": {},
   "outputs": [],
   "source": [
    "temp = p*3"
   ]
  },
  {
   "cell_type": "code",
   "execution_count": 59,
   "id": "d9469883-6f0b-45e7-bbf8-c815fda995cf",
   "metadata": {},
   "outputs": [
    {
     "data": {
      "text/plain": [
       "'pythonpythonpython'"
      ]
     },
     "execution_count": 59,
     "metadata": {},
     "output_type": "execute_result"
    }
   ],
   "source": [
    "temp"
   ]
  },
  {
   "cell_type": "code",
   "execution_count": 60,
   "id": "94e70757-de57-4d64-ad52-a2ba45d8188f",
   "metadata": {},
   "outputs": [
    {
     "data": {
      "text/plain": [
       "'python'"
      ]
     },
     "execution_count": 60,
     "metadata": {},
     "output_type": "execute_result"
    }
   ],
   "source": [
    "p"
   ]
  },
  {
   "cell_type": "code",
   "execution_count": 61,
   "id": "0417923a-ad68-45b2-865b-a6aeaa0a9f87",
   "metadata": {},
   "outputs": [
    {
     "ename": "TypeError",
     "evalue": "can't multiply sequence by non-int of type 'float'",
     "output_type": "error",
     "traceback": [
      "\u001b[1;31m---------------------------------------------------------------------------\u001b[0m",
      "\u001b[1;31mTypeError\u001b[0m                                 Traceback (most recent call last)",
      "Cell \u001b[1;32mIn[61], line 1\u001b[0m\n\u001b[1;32m----> 1\u001b[0m \u001b[38;5;124m'\u001b[39m\u001b[38;5;124mpython\u001b[39m\u001b[38;5;124m'\u001b[39m \u001b[38;5;241m*\u001b[39m \u001b[38;5;241m1.5\u001b[39m\n",
      "\u001b[1;31mTypeError\u001b[0m: can't multiply sequence by non-int of type 'float'"
     ]
    }
   ],
   "source": [
    "'python' * 1.5"
   ]
  },
  {
   "cell_type": "code",
   "execution_count": null,
   "id": "500ca10c-9c00-4ca6-83b3-fe5e14d36ca0",
   "metadata": {},
   "outputs": [],
   "source": []
  }
 ],
 "metadata": {
  "kernelspec": {
   "display_name": "Python [conda env:base] *",
   "language": "python",
   "name": "conda-base-py"
  },
  "language_info": {
   "codemirror_mode": {
    "name": "ipython",
    "version": 3
   },
   "file_extension": ".py",
   "mimetype": "text/x-python",
   "name": "python",
   "nbconvert_exporter": "python",
   "pygments_lexer": "ipython3",
   "version": "3.12.7"
  }
 },
 "nbformat": 4,
 "nbformat_minor": 5
}
