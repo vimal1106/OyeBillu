{
 "cells": [
  {
   "cell_type": "code",
   "execution_count": 2,
   "id": "7aba0040-2c00-4404-912a-dc85991f5801",
   "metadata": {},
   "outputs": [
    {
     "name": "stdout",
     "output_type": "stream",
     "text": [
      "hi\n",
      "Bye\n",
      "welcome\n",
      "hi\n",
      "Bye\n",
      "welcome\n",
      "hi\n",
      "Bye\n",
      "welcome\n",
      "hi\n",
      "Bye\n",
      "welcome\n",
      "hi\n",
      "Bye\n",
      "welcome\n",
      "hi\n",
      "Bye\n",
      "welcome\n",
      "hi\n",
      "Bye\n",
      "welcome\n",
      "hi\n",
      "Bye\n",
      "welcome\n"
     ]
    }
   ],
   "source": [
    "print(\"hi\")\n",
    "print(\"Bye\")\n",
    "print(\"welcome\")\n",
    "print(\"hi\")\n",
    "print(\"Bye\")\n",
    "print(\"welcome\")\n",
    "print(\"hi\")\n",
    "print(\"Bye\")\n",
    "print(\"welcome\")\n",
    "print(\"hi\")\n",
    "print(\"Bye\")\n",
    "print(\"welcome\")\n",
    "print(\"hi\")\n",
    "print(\"Bye\")\n",
    "print(\"welcome\")\n",
    "print(\"hi\")\n",
    "print(\"Bye\")\n",
    "print(\"welcome\")\n",
    "print(\"hi\")\n",
    "print(\"Bye\")\n",
    "print(\"welcome\")\n",
    "print(\"hi\")\n",
    "print(\"Bye\")\n",
    "print(\"welcome\")"
   ]
  },
  {
   "cell_type": "code",
   "execution_count": null,
   "id": "eda07a18-51cd-4ec7-b531-893f9313f6fe",
   "metadata": {},
   "outputs": [],
   "source": [
    "lines of code --> time complexity,space complexity"
   ]
  },
  {
   "cell_type": "code",
   "execution_count": null,
   "id": "4293990e-d349-46bb-9751-fe95c237df07",
   "metadata": {},
   "outputs": [],
   "source": [
    "loop statement\n",
    "for loop\n",
    "while loop\n",
    "\n",
    "Note : do-while is not present in python"
   ]
  },
  {
   "cell_type": "code",
   "execution_count": null,
   "id": "065025f8-665f-4a26-863c-210d6d3bfac1",
   "metadata": {},
   "outputs": [],
   "source": [
    "for loopvar in DS|Seq|Iterables:\n",
    "    block of statements"
   ]
  },
  {
   "cell_type": "code",
   "execution_count": 3,
   "id": "8ed69bd3-6a96-4af8-8ca0-996ef376e75a",
   "metadata": {},
   "outputs": [],
   "source": [
    "py = [64,23,6,5,23,7665,34,75,34,]"
   ]
  },
  {
   "cell_type": "code",
   "execution_count": 4,
   "id": "0445d659-6e77-44af-9666-292c0639ae6e",
   "metadata": {},
   "outputs": [],
   "source": [
    "p = ['python','hadoop','java','ml','pyspark']"
   ]
  },
  {
   "cell_type": "code",
   "execution_count": 9,
   "id": "58bcc9cc-6dc9-4f1b-b765-54ac1479bd93",
   "metadata": {},
   "outputs": [
    {
     "name": "stdout",
     "output_type": "stream",
     "text": [
      "python 6\n",
      "hadoop 6\n",
      "java 4\n",
      "ml 2\n",
      "pyspark 7\n"
     ]
    }
   ],
   "source": [
    "for element in p:\n",
    "    print(element,len(element))"
   ]
  },
  {
   "cell_type": "code",
   "execution_count": null,
   "id": "22cb8915-6248-417c-8532-6d3ede1cc799",
   "metadata": {},
   "outputs": [],
   "source": [
    "control + loop statement"
   ]
  },
  {
   "cell_type": "code",
   "execution_count": 11,
   "id": "958e95ad-7206-457c-95eb-e15fbe464afb",
   "metadata": {},
   "outputs": [],
   "source": [
    "p = [645,23,65,3,4,765,34,'sdfsdf',75,5,7,34,7,6,34,7,56,34,35,'swdfsf']"
   ]
  },
  {
   "cell_type": "code",
   "execution_count": 15,
   "id": "39fd32ad-7ff4-4fa4-8e4d-f14833571cb3",
   "metadata": {},
   "outputs": [],
   "source": [
    "valid_id = []\n",
    "for element in p:\n",
    "    if str(element).isnumeric():\n",
    "        valid_id.append(element)\n"
   ]
  },
  {
   "cell_type": "code",
   "execution_count": 16,
   "id": "4999b983-62ba-46da-987f-f2a023a9c75b",
   "metadata": {},
   "outputs": [
    {
     "name": "stdout",
     "output_type": "stream",
     "text": [
      "[645, 23, 65, 3, 4, 765, 34, 75, 5, 7, 34, 7, 6, 34, 7, 56, 34, 35]\n"
     ]
    }
   ],
   "source": [
    "print(valid_id)"
   ]
  },
  {
   "cell_type": "code",
   "execution_count": 17,
   "id": "efaa529d-5be3-408f-a4c4-fd6253800c17",
   "metadata": {},
   "outputs": [],
   "source": [
    "p = [54,65,23,6,5,34,76,34,7,65,34,76,3,4,76,34,75,34,34]"
   ]
  },
  {
   "cell_type": "code",
   "execution_count": null,
   "id": "522ba8a9-576a-4178-8a25-533a126b4046",
   "metadata": {},
   "outputs": [],
   "source": [
    "for with if-else"
   ]
  },
  {
   "cell_type": "code",
   "execution_count": 18,
   "id": "8fca188e-d0d5-478a-965e-c9edca012b6c",
   "metadata": {},
   "outputs": [
    {
     "name": "stdout",
     "output_type": "stream",
     "text": [
      "Even elements :  [54, 6, 34, 76, 34, 34, 76, 4, 76, 34, 34, 34]\n",
      "Odd elements :  [65, 23, 5, 7, 65, 3, 75]\n"
     ]
    }
   ],
   "source": [
    "even = []\n",
    "odd = []\n",
    "for element in p:\n",
    "    if element%2==0:\n",
    "        even.append(element)\n",
    "    else:\n",
    "        odd.append(element)\n",
    "print(\"Even elements : \",even)\n",
    "print(\"Odd elements : \",odd)"
   ]
  },
  {
   "cell_type": "code",
   "execution_count": null,
   "id": "a559e14b-eb70-49c1-b17a-f9d5ce94be57",
   "metadata": {},
   "outputs": [],
   "source": [
    "files= "
   ]
  }
 ],
 "metadata": {
  "kernelspec": {
   "display_name": "Python [conda env:base] *",
   "language": "python",
   "name": "conda-base-py"
  },
  "language_info": {
   "codemirror_mode": {
    "name": "ipython",
    "version": 3
   },
   "file_extension": ".py",
   "mimetype": "text/x-python",
   "name": "python",
   "nbconvert_exporter": "python",
   "pygments_lexer": "ipython3",
   "version": "3.12.7"
  }
 },
 "nbformat": 4,
 "nbformat_minor": 5
}
