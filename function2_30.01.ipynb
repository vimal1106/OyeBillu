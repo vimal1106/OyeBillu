{
 "cells": [
  {
   "cell_type": "code",
   "execution_count": null,
   "id": "e7067c7a-3e2e-4739-95eb-9861532702d6",
   "metadata": {},
   "outputs": [],
   "source": [
    "7 -->Prime Number\n",
    "\n",
    "11 -- Prime Number"
   ]
  },
  {
   "cell_type": "code",
   "execution_count": null,
   "id": "140b2550-bc11-4770-bfee-3418615536f1",
   "metadata": {},
   "outputs": [],
   "source": [
    "1  --> 0  \n",
    "7\n",
    "7\n",
    "\n",
    "2 \n",
    "3,\n",
    "4,\n",
    "5,\n",
    "6,"
   ]
  },
  {
   "cell_type": "code",
   "execution_count": 6,
   "id": "c841bd80-fe20-4d1e-9a86-42920b7d5c45",
   "metadata": {},
   "outputs": [
    {
     "name": "stdin",
     "output_type": "stream",
     "text": [
      "Enter the prime numnber: 11\n"
     ]
    },
    {
     "name": "stdout",
     "output_type": "stream",
     "text": [
      "prime number\n"
     ]
    }
   ],
   "source": [
    "flag = False\n",
    "num = int(input(\"Enter the prime numnber:\"))\n",
    "if num==0 or num==1:\n",
    "    print(\"not prime number\")\n",
    "elif num>1:\n",
    "    for i in range(2,num):\n",
    "        if num%i == 0:\n",
    "            flag = True\n",
    "            break\n",
    "if flag:\n",
    "    print(\"not prime number:\")\n",
    "else:\n",
    "    print(\"prime number\")"
   ]
  },
  {
   "cell_type": "code",
   "execution_count": null,
   "id": "796da290-656e-4b20-bebb-1ec50e43bac0",
   "metadata": {},
   "outputs": [],
   "source": [
    "Assigment :\n",
    "1- 100 --> prime number"
   ]
  },
  {
   "cell_type": "code",
   "execution_count": null,
   "id": "69113e8b-5ff1-46c2-82ae-9a27160b9df1",
   "metadata": {},
   "outputs": [],
   "source": [
    "for - else"
   ]
  },
  {
   "cell_type": "code",
   "execution_count": 7,
   "id": "78d359b2-7f18-4c06-b3e5-3b12859e7b28",
   "metadata": {},
   "outputs": [
    {
     "name": "stdout",
     "output_type": "stream",
     "text": [
      "1\n",
      "2\n",
      "3\n",
      "4\n"
     ]
    }
   ],
   "source": [
    "for i in range(1,11):\n",
    "    if i==5:\n",
    "        break\n",
    "    else:\n",
    "        print(i)\n",
    "else:\n",
    "    print(\"Bye\")"
   ]
  },
  {
   "cell_type": "code",
   "execution_count": null,
   "id": "6f23c022-1992-4e4a-9c6e-158cd89631ec",
   "metadata": {},
   "outputs": [],
   "source": [
    "start -- > end --> complete execution --> break"
   ]
  },
  {
   "cell_type": "code",
   "execution_count": 15,
   "id": "569b5ac7-9580-48eb-9c25-cde618806114",
   "metadata": {},
   "outputs": [],
   "source": [
    "prductlist = [45,675,2,3,65,4,5,8,3,'sdff',6,5,3,75,3,65]"
   ]
  },
  {
   "cell_type": "code",
   "execution_count": 18,
   "id": "46f17409-bdba-4d71-a9e6-bcd573cc9b08",
   "metadata": {},
   "outputs": [
    {
     "name": "stdout",
     "output_type": "stream",
     "text": [
      "processing products: 45\n",
      "processing products: 675\n",
      "processing products: 2\n",
      "processing products: 3\n",
      "processing products: 65\n",
      "processing products: 4\n",
      "processing products: 5\n",
      "processing products: 8\n",
      "processing products: 3\n"
     ]
    }
   ],
   "source": [
    "for i in prductlist:\n",
    "    if str(i).isnumeric():\n",
    "        print(\"processing products:\",i)\n",
    "    else:\n",
    "        break\n",
    "else:\n",
    "    print(\"loop completed\")"
   ]
  },
  {
   "cell_type": "code",
   "execution_count": null,
   "id": "3b403843-dafc-48df-a085-d129c7b60b8f",
   "metadata": {},
   "outputs": [],
   "source": [
    "complete execute ---> else part \n",
    "\n",
    "\n",
    "else ---> status  --> loop -- "
   ]
  },
  {
   "cell_type": "code",
   "execution_count": 23,
   "id": "24ad27af-5c6b-4847-92ff-57e870484706",
   "metadata": {},
   "outputs": [
    {
     "name": "stdin",
     "output_type": "stream",
     "text": [
      "Enter the prime numnber: 100\n"
     ]
    },
    {
     "name": "stdout",
     "output_type": "stream",
     "text": [
      "not prime number\n"
     ]
    }
   ],
   "source": [
    "num = int(input(\"Enter the prime numnber:\"))\n",
    "if num==0 or num==1:\n",
    "    print(\"not prime number\")\n",
    "for i in range(2,num):\n",
    "    if num%i == 0:\n",
    "        print(\"not prime number\")\n",
    "        break\n",
    "else:\n",
    "    print(\"prime number\")"
   ]
  },
  {
   "cell_type": "code",
   "execution_count": null,
   "id": "3c1527b2-58e3-4534-a564-3cd6554c5090",
   "metadata": {},
   "outputs": [],
   "source": [
    "1- 100 -- prime numebrs"
   ]
  },
  {
   "cell_type": "code",
   "execution_count": 24,
   "id": "57db4a2d-96da-47b6-95b5-2d2893f1a223",
   "metadata": {},
   "outputs": [],
   "source": [
    "def prime_or_not(num):    \n",
    "    if num==0 or num==1:\n",
    "        print(\"not prime number\")\n",
    "    for i in range(2,num):\n",
    "        if num%i == 0:\n",
    "            print(\"not prime number\")\n",
    "            break\n",
    "    else:\n",
    "        print(\"prime number\")"
   ]
  },
  {
   "cell_type": "code",
   "execution_count": 25,
   "id": "71f35988-3fad-407c-9dfe-dd2c57cacc53",
   "metadata": {},
   "outputs": [
    {
     "name": "stdin",
     "output_type": "stream",
     "text": [
      "Enter the prime numnber: 7\n"
     ]
    },
    {
     "name": "stdout",
     "output_type": "stream",
     "text": [
      "prime number\n"
     ]
    }
   ],
   "source": [
    "num = int(input(\"Enter the prime numnber:\"))\n",
    "prime_or_not(num)"
   ]
  },
  {
   "cell_type": "code",
   "execution_count": 26,
   "id": "69f36b3c-4732-44ee-8405-2aef09b4d6fa",
   "metadata": {},
   "outputs": [],
   "source": [
    "def prime_or_not(num):    \n",
    "    if num==0 or num==1:\n",
    "        return \"not prime number\"\n",
    "    for i in range(2,num):\n",
    "        if num%i == 0:\n",
    "            return \"not prime number\"\n",
    "            break\n",
    "    else:\n",
    "        return \"prime number\""
   ]
  },
  {
   "cell_type": "code",
   "execution_count": 27,
   "id": "facb0a97-5d5b-4716-a117-9448f88a7de1",
   "metadata": {},
   "outputs": [],
   "source": [
    "num = 10\n",
    "result  = prime_or_not(num)"
   ]
  },
  {
   "cell_type": "code",
   "execution_count": 28,
   "id": "670988a6-d456-4880-8f58-c600b0144008",
   "metadata": {},
   "outputs": [
    {
     "data": {
      "text/plain": [
       "'not prime number'"
      ]
     },
     "execution_count": 28,
     "metadata": {},
     "output_type": "execute_result"
    }
   ],
   "source": [
    "result"
   ]
  },
  {
   "cell_type": "code",
   "execution_count": null,
   "id": "8b4a9625-1512-4123-a245-4e1bdf41b1a7",
   "metadata": {},
   "outputs": [],
   "source": [
    "Types of function:\n",
    "no argument no return value\n",
    "no argument with return value\n",
    "with argument no return value\n",
    "with argument with return value - IMP"
   ]
  },
  {
   "cell_type": "code",
   "execution_count": null,
   "id": "126be49c-314c-4d17-b93a-90ca62ca710c",
   "metadata": {},
   "outputs": [],
   "source": [
    "no argument no return value"
   ]
  },
  {
   "cell_type": "code",
   "execution_count": 30,
   "id": "56b00f48-14ca-48b1-bab6-507d0cea6ffa",
   "metadata": {},
   "outputs": [],
   "source": [
    "def check_even_odd():\n",
    "    num  =10\n",
    "    if num%2==0:\n",
    "        print(\"even\")\n",
    "    else:\n",
    "        print(\"odd\")"
   ]
  },
  {
   "cell_type": "code",
   "execution_count": 31,
   "id": "a4e4f2e7-91c8-4744-9e3d-de23ba828477",
   "metadata": {},
   "outputs": [
    {
     "name": "stdout",
     "output_type": "stream",
     "text": [
      "even\n"
     ]
    }
   ],
   "source": [
    "check_even_odd()"
   ]
  },
  {
   "cell_type": "code",
   "execution_count": 37,
   "id": "f01b74ad-0f1a-4127-bd4d-d147b28486a3",
   "metadata": {},
   "outputs": [],
   "source": [
    "def check_even_odd():\n",
    "    num  =11\n",
    "    if num%2==0:\n",
    "        return \"even\"\n",
    "    else:\n",
    "        return \"odd\""
   ]
  },
  {
   "cell_type": "code",
   "execution_count": 38,
   "id": "2af0974c-1581-4310-95b5-23da64044a25",
   "metadata": {},
   "outputs": [],
   "source": [
    "status = check_even_odd()"
   ]
  },
  {
   "cell_type": "code",
   "execution_count": 39,
   "id": "0765b5ca-b882-4aee-b6c8-d1438e22bce1",
   "metadata": {},
   "outputs": [
    {
     "data": {
      "text/plain": [
       "'odd'"
      ]
     },
     "execution_count": 39,
     "metadata": {},
     "output_type": "execute_result"
    }
   ],
   "source": [
    "\n",
    "status"
   ]
  },
  {
   "cell_type": "code",
   "execution_count": null,
   "id": "077e2f2e-d36b-46d5-b88e-216ecfa4d16f",
   "metadata": {},
   "outputs": [],
   "source": [
    "with argument no return value"
   ]
  },
  {
   "cell_type": "code",
   "execution_count": 40,
   "id": "346035ae-c4f8-49e4-ae66-f439bcced50c",
   "metadata": {},
   "outputs": [],
   "source": [
    "def email_creation(username,password):\n",
    "    email = username+'.'+password+'@gmail.com'\n",
    "    print(email)"
   ]
  },
  {
   "cell_type": "code",
   "execution_count": 41,
   "id": "0b5dbed7-2010-4ef0-a7eb-159a2bd1ed96",
   "metadata": {},
   "outputs": [
    {
     "name": "stdout",
     "output_type": "stream",
     "text": [
      "keshav.patil@gmail.com\n"
     ]
    }
   ],
   "source": [
    "email_creation('keshav','patil')"
   ]
  },
  {
   "cell_type": "code",
   "execution_count": 42,
   "id": "f997dd0c-148b-4bac-84bb-98605ade5391",
   "metadata": {},
   "outputs": [],
   "source": [
    "def email_creation(username,password):\n",
    "    email = username+'.'+password+'@gmail.com'\n",
    "    return email"
   ]
  },
  {
   "cell_type": "code",
   "execution_count": 43,
   "id": "2459718b-2e85-4a26-80a5-c63ca149968a",
   "metadata": {},
   "outputs": [
    {
     "data": {
      "text/plain": [
       "'arun.jadhav@gmail.com'"
      ]
     },
     "execution_count": 43,
     "metadata": {},
     "output_type": "execute_result"
    }
   ],
   "source": [
    "e = email_creation('arun','jadhav')\n",
    "e\n"
   ]
  },
  {
   "cell_type": "code",
   "execution_count": 44,
   "id": "21e19e14-1f6e-49e2-bc03-c0f415c41a1d",
   "metadata": {},
   "outputs": [],
   "source": [
    "p = [5,23,67,653,4,65,34,6,5,4,'dsfsdf','dsfdsf','dsfsdfd','sdafdsf',65765,234,54]\n",
    "\n",
    "valid prdid\n",
    "invalid prdid"
   ]
  },
  {
   "cell_type": "code",
   "execution_count": 45,
   "id": "11ae6a16-0678-44a1-b0dd-4c6771435055",
   "metadata": {},
   "outputs": [],
   "source": [
    "p = 'sdfsdfd645654654!!@@#$%^&*&^%$#@!@#$%^5645654565sdfdsfdsfsdaf'\n",
    "\n",
    "num \n",
    "char\n",
    "special char\n"
   ]
  },
  {
   "cell_type": "code",
   "execution_count": 46,
   "id": "44af401d-6b51-4ae0-b1e1-c0bbea4b4bae",
   "metadata": {},
   "outputs": [],
   "source": [
    "p = [5465546,8676,34,78765,62,3453,765,5,67,4,5,76,453,4,67,6453,454,65]\n",
    "\n",
    "prime numbers"
   ]
  },
  {
   "cell_type": "code",
   "execution_count": 47,
   "id": "bb88fbc1-d51e-4a51-a0b1-18786e7fc617",
   "metadata": {},
   "outputs": [],
   "source": [
    "p = \"hello world ,python welcome\""
   ]
  },
  {
   "cell_type": "code",
   "execution_count": null,
   "id": "c5e9ab57-ba8c-4661-9965-3c0664fdf4c7",
   "metadata": {},
   "outputs": [],
   "source": [
    "output 1 : \"world hello,welcome python\""
   ]
  },
  {
   "cell_type": "code",
   "execution_count": null,
   "id": "83ab5192-fba6-47e2-ae9b-a17984e4ce1b",
   "metadata": {},
   "outputs": [],
   "source": [
    "output2 : \"welcome python,world hello\""
   ]
  },
  {
   "cell_type": "code",
   "execution_count": null,
   "id": "db1cadc1-b8aa-4e65-b8c9-f97418fad867",
   "metadata": {},
   "outputs": [],
   "source": [
    "Types of Arguments:\n",
    "====================\n",
    "1.positional arguments\n",
    "2.default arguments\n",
    "3.variable length arguments(*args)\n",
    "4.keyword arguments\n",
    "5.variable length keyword arguments(**kwargs)"
   ]
  },
  {
   "cell_type": "code",
   "execution_count": 48,
   "id": "fb5f0e47-e2ca-4bcc-ad61-83b1979aa35b",
   "metadata": {},
   "outputs": [],
   "source": [
    "def personal_details(id,name,city,sal):\n",
    "    print(\"id:\",id)\n",
    "    print(\"name:\",name)\n",
    "    print(\"city:\",city)\n",
    "    print(\"sal:\",sal)"
   ]
  },
  {
   "cell_type": "code",
   "execution_count": 49,
   "id": "c9b0662a-9bb1-4672-8c8f-c9dc68f25b84",
   "metadata": {},
   "outputs": [
    {
     "name": "stdout",
     "output_type": "stream",
     "text": [
      "id: 101\n",
      "name: tushar\n",
      "city: pune\n",
      "sal: 5455435\n"
     ]
    }
   ],
   "source": [
    "personal_details(101,'tushar','pune',5455435)"
   ]
  },
  {
   "cell_type": "code",
   "execution_count": null,
   "id": "1660f1fb-5884-450f-b5d5-397777eef6ad",
   "metadata": {},
   "outputs": [],
   "source": [
    "positionl\n",
    "\n",
    "1.number of formal arguments==actual arguments\n",
    "2.seq left to right should be same"
   ]
  },
  {
   "cell_type": "code",
   "execution_count": 50,
   "id": "1ffcc608-5753-42cf-9693-507858e51d70",
   "metadata": {},
   "outputs": [],
   "source": [
    "def personal_details(id,name,city,sal):\n",
    "    print(\"id:\",id)\n",
    "    print(\"name:\",name)\n",
    "    print(\"city:\",city)\n",
    "    print(\"sal:\",sal)"
   ]
  },
  {
   "cell_type": "code",
   "execution_count": 52,
   "id": "500fe294-2854-4a81-9910-36f65c7927d0",
   "metadata": {},
   "outputs": [
    {
     "name": "stdout",
     "output_type": "stream",
     "text": [
      "id: 645644565\n",
      "name: 101\n",
      "city: test\n",
      "sal: pune\n"
     ]
    }
   ],
   "source": [
    "personal_details(645644565,101,'test','pune')"
   ]
  },
  {
   "cell_type": "code",
   "execution_count": null,
   "id": "55ef18f7-4463-49a1-935d-41daeaed2385",
   "metadata": {},
   "outputs": [],
   "source": []
  }
 ],
 "metadata": {
  "kernelspec": {
   "display_name": "Python [conda env:base] *",
   "language": "python",
   "name": "conda-base-py"
  },
  "language_info": {
   "codemirror_mode": {
    "name": "ipython",
    "version": 3
   },
   "file_extension": ".py",
   "mimetype": "text/x-python",
   "name": "python",
   "nbconvert_exporter": "python",
   "pygments_lexer": "ipython3",
   "version": "3.12.7"
  }
 },
 "nbformat": 4,
 "nbformat_minor": 5
}
