{
 "cells": [
  {
   "cell_type": "code",
   "execution_count": null,
   "id": "9e6b0aa5-71df-4901-9f2d-dcce365f1f1d",
   "metadata": {},
   "outputs": [],
   "source": [
    "Str :\n",
    "\n",
    "Highest priority Python\n",
    "\n",
    "it is collection of multipl chars arranged in some perticular order\n",
    "it is immutable type DS\n",
    "it is denoted by ' ' or \" \"  or ''' ''' or  \"\"\" \"\"\" \n",
    "it can contain duplicate elements\n",
    "element or char can be accessed by index  number\n",
    "forward / positive\n",
    "start =0  end =len-1\n",
    "\n",
    "reverse /negative:\n",
    "start =-1 end = -len\n"
   ]
  },
  {
   "cell_type": "code",
   "execution_count": 5,
   "id": "29b474d6-83cd-4a7b-84d6-b2a8d3b44b81",
   "metadata": {},
   "outputs": [],
   "source": [
    "name  = 'keshav'"
   ]
  },
  {
   "cell_type": "code",
   "execution_count": 6,
   "id": "e8936f89-9454-44e0-a7da-78377a50fb2f",
   "metadata": {},
   "outputs": [],
   "source": [
    "name = \"keshav\""
   ]
  },
  {
   "cell_type": "code",
   "execution_count": 7,
   "id": "c9e569a2-f72b-41ef-bb00-35155894f9ef",
   "metadata": {},
   "outputs": [],
   "source": [
    "name  = '''keshav'''"
   ]
  },
  {
   "cell_type": "code",
   "execution_count": 8,
   "id": "455fdb45-9363-49e6-9a54-1c433e1fb569",
   "metadata": {},
   "outputs": [],
   "source": [
    "name = \"\"\"keshav\"\"\""
   ]
  },
  {
   "cell_type": "code",
   "execution_count": 10,
   "id": "02df0dc8-ad2a-4760-9f74-deb87abd00bf",
   "metadata": {},
   "outputs": [],
   "source": [
    "statement  = \"Python and Stats are very imp for DS it's also use for AI\""
   ]
  },
  {
   "cell_type": "code",
   "execution_count": 11,
   "id": "98dfdb6a-bb98-451e-9f34-e608078c03ae",
   "metadata": {},
   "outputs": [
    {
     "data": {
      "text/plain": [
       "\"Python and Stats are very imp for DS it's also use for AI\""
      ]
     },
     "execution_count": 11,
     "metadata": {},
     "output_type": "execute_result"
    }
   ],
   "source": [
    "statement"
   ]
  },
  {
   "cell_type": "code",
   "execution_count": 12,
   "id": "ee2a4f7b-f73d-42dd-99e6-201fee802d3c",
   "metadata": {},
   "outputs": [],
   "source": [
    "statement  = 'Python and Stats are very imp for \"DS\" also use for AI'"
   ]
  },
  {
   "cell_type": "code",
   "execution_count": 13,
   "id": "7d95d7ac-d055-40d4-9488-c036f09bc06b",
   "metadata": {},
   "outputs": [
    {
     "data": {
      "text/plain": [
       "'Python and Stats are very imp for \"DS\" also use for AI'"
      ]
     },
     "execution_count": 13,
     "metadata": {},
     "output_type": "execute_result"
    }
   ],
   "source": [
    "statement"
   ]
  },
  {
   "cell_type": "code",
   "execution_count": null,
   "id": "088d6d7a-d261-4528-a351-ed0f93cd7189",
   "metadata": {},
   "outputs": [],
   "source": [
    " ' ' or \" \"  - single line string"
   ]
  },
  {
   "cell_type": "code",
   "execution_count": 14,
   "id": "2764492a-109c-4f92-bbc4-9a3aa27011e4",
   "metadata": {},
   "outputs": [
    {
     "ename": "SyntaxError",
     "evalue": "unterminated string literal (detected at line 1) (3725875197.py, line 1)",
     "output_type": "error",
     "traceback": [
      "\u001b[1;36m  Cell \u001b[1;32mIn[14], line 1\u001b[1;36m\u001b[0m\n\u001b[1;33m    temp = 'The core of extensible programming is defining functions.\u001b[0m\n\u001b[1;37m           ^\u001b[0m\n\u001b[1;31mSyntaxError\u001b[0m\u001b[1;31m:\u001b[0m unterminated string literal (detected at line 1)\n"
     ]
    }
   ],
   "source": [
    "temp = \"The core of extensible programming is defining functions. \n",
    "Python allows mandatory and optional arguments, keyword arguments, and even arbitrary argument lists. \n",
    "More about defining functions in Python 3\""
   ]
  },
  {
   "cell_type": "code",
   "execution_count": 19,
   "id": "b42bc72c-9247-4795-b311-b10d5c82ea84",
   "metadata": {},
   "outputs": [],
   "source": [
    "temp = 'The core of extensible programming is 'defining functions'. \n",
    "Python \"allows\" mandatory and \"\"\"optional\"\"\" arguments, keyword arguments, and even arbitrary argument lists. \n",
    "More about defining functions in Python 3'"
   ]
  },
  {
   "cell_type": "code",
   "execution_count": 22,
   "id": "02ea8ae8-628d-470d-901a-3535874523de",
   "metadata": {},
   "outputs": [
    {
     "data": {
      "text/plain": [
       "'The core of extensible programming is \\'defining functions\\'. \\nPython \"allows\" mandatory and \"\"\"optional\"\"\" arguments, keyword arguments, and even arbitrary argument lists. \\nMore about defining functions in Python 3'"
      ]
     },
     "execution_count": 22,
     "metadata": {},
     "output_type": "execute_result"
    }
   ],
   "source": [
    "temp"
   ]
  },
  {
   "cell_type": "code",
   "execution_count": null,
   "id": "2fd29d3f-7b71-48e1-81f5-7b1cf886eee9",
   "metadata": {},
   "outputs": [],
   "source": [
    "single line --  ' '  or \" \" \n",
    "multi line  --  ''' '''  or  \"\"\" \"\"\" "
   ]
  },
  {
   "cell_type": "code",
   "execution_count": 23,
   "id": "c25c5aaa-a36c-41bd-b942-65ed9a20d0a6",
   "metadata": {},
   "outputs": [],
   "source": [
    "emp = 'Rahul'"
   ]
  },
  {
   "cell_type": "code",
   "execution_count": 26,
   "id": "284e6219-f8c7-4993-b943-db210559124f",
   "metadata": {},
   "outputs": [],
   "source": [
    "a = emp.lower()"
   ]
  },
  {
   "cell_type": "code",
   "execution_count": 27,
   "id": "2d6a1eb8-6a37-45e8-8116-825cea11ca24",
   "metadata": {},
   "outputs": [
    {
     "data": {
      "text/plain": [
       "'rahul'"
      ]
     },
     "execution_count": 27,
     "metadata": {},
     "output_type": "execute_result"
    }
   ],
   "source": [
    "a"
   ]
  },
  {
   "cell_type": "code",
   "execution_count": null,
   "id": "ac334996-c961-49ec-a8bb-9891d2a6094d",
   "metadata": {},
   "outputs": [],
   "source": [
    "Real time :\n"
   ]
  },
  {
   "cell_type": "code",
   "execution_count": null,
   "id": "d6a0e1f4-0fc6-4fd0-8579-b2c8962bcc3f",
   "metadata": {},
   "outputs": [],
   "source": [
    "Team --> CODE --> Readable "
   ]
  },
  {
   "cell_type": "code",
   "execution_count": null,
   "id": "ab6091b6-e209-470f-95f9-fac60d6d0ad2",
   "metadata": {},
   "outputs": [],
   "source": [
    "doc string \n",
    "\n",
    "\"\"\"\n",
    "this script use for Data migration\n",
    "data input : users\n",
    "output Database : dbnam\n",
    "\"\"\"\n"
   ]
  },
  {
   "cell_type": "code",
   "execution_count": 29,
   "id": "6fac6375-bb69-44d0-95ef-bbe197564f97",
   "metadata": {},
   "outputs": [],
   "source": [
    "#print(emp)"
   ]
  },
  {
   "cell_type": "code",
   "execution_count": null,
   "id": "12c630ac-61d5-4cfe-a8dd-56321cc33505",
   "metadata": {},
   "outputs": [],
   "source": []
  }
 ],
 "metadata": {
  "kernelspec": {
   "display_name": "Python [conda env:base] *",
   "language": "python",
   "name": "conda-base-py"
  },
  "language_info": {
   "codemirror_mode": {
    "name": "ipython",
    "version": 3
   },
   "file_extension": ".py",
   "mimetype": "text/x-python",
   "name": "python",
   "nbconvert_exporter": "python",
   "pygments_lexer": "ipython3",
   "version": "3.12.7"
  }
 },
 "nbformat": 4,
 "nbformat_minor": 5
}
